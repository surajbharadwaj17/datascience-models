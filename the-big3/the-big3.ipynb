{
 "cells": [
  {
   "cell_type": "code",
   "execution_count": 1,
   "metadata": {},
   "outputs": [],
   "source": [
    "import pandas as pd\n",
    "import numpy as np\n",
    "import seaborn as sns"
   ]
  },
  {
   "cell_type": "code",
   "execution_count": 2,
   "metadata": {},
   "outputs": [],
   "source": [
    "# read data\n",
    "df = pd.read_csv(\"BigThree.csv\")"
   ]
  },
  {
   "cell_type": "code",
   "execution_count": 3,
   "metadata": {},
   "outputs": [
    {
     "name": "stdout",
     "output_type": "stream",
     "text": [
      "<class 'pandas.core.frame.DataFrame'>\n",
      "RangeIndex: 105 entries, 0 to 104\n",
      "Data columns (total 10 columns):\n",
      " #   Column                Non-Null Count  Dtype  \n",
      "---  ------                --------------  -----  \n",
      " 0   Arc                   105 non-null    object \n",
      " 1   Start onChapter       105 non-null    float64\n",
      " 2   TotalChapters         105 non-null    int64  \n",
      " 3   TotalPages            105 non-null    int64  \n",
      " 4   Manga%                105 non-null    object \n",
      " 5   Start onEpisode       105 non-null    int64  \n",
      " 6   TotalEpisodes         105 non-null    int64  \n",
      " 7   TotalMinutes(avg 24)  105 non-null    int64  \n",
      " 8   Anime%                105 non-null    object \n",
      " 9   BigThree              105 non-null    object \n",
      "dtypes: float64(1), int64(5), object(4)\n",
      "memory usage: 8.3+ KB\n"
     ]
    }
   ],
   "source": [
    "# data exploration\n",
    "\n",
    "df.info()"
   ]
  },
  {
   "cell_type": "code",
   "execution_count": 4,
   "metadata": {},
   "outputs": [
    {
     "data": {
      "text/html": [
       "<div>\n",
       "<style scoped>\n",
       "    .dataframe tbody tr th:only-of-type {\n",
       "        vertical-align: middle;\n",
       "    }\n",
       "\n",
       "    .dataframe tbody tr th {\n",
       "        vertical-align: top;\n",
       "    }\n",
       "\n",
       "    .dataframe thead th {\n",
       "        text-align: right;\n",
       "    }\n",
       "</style>\n",
       "<table border=\"1\" class=\"dataframe\">\n",
       "  <thead>\n",
       "    <tr style=\"text-align: right;\">\n",
       "      <th></th>\n",
       "      <th>Arc</th>\n",
       "      <th>Start onChapter</th>\n",
       "      <th>TotalChapters</th>\n",
       "      <th>TotalPages</th>\n",
       "      <th>Manga%</th>\n",
       "      <th>Start onEpisode</th>\n",
       "      <th>TotalEpisodes</th>\n",
       "      <th>TotalMinutes(avg 24)</th>\n",
       "      <th>Anime%</th>\n",
       "      <th>BigThree</th>\n",
       "    </tr>\n",
       "  </thead>\n",
       "  <tbody>\n",
       "    <tr>\n",
       "      <th>0</th>\n",
       "      <td>Romance Dawn Arc</td>\n",
       "      <td>1.0</td>\n",
       "      <td>7</td>\n",
       "      <td>178</td>\n",
       "      <td>0.9%</td>\n",
       "      <td>1</td>\n",
       "      <td>3</td>\n",
       "      <td>72</td>\n",
       "      <td>0.3%</td>\n",
       "      <td>One Piece</td>\n",
       "    </tr>\n",
       "    <tr>\n",
       "      <th>1</th>\n",
       "      <td>Orange Town Arc</td>\n",
       "      <td>8.0</td>\n",
       "      <td>14</td>\n",
       "      <td>273</td>\n",
       "      <td>1.4%</td>\n",
       "      <td>4</td>\n",
       "      <td>5</td>\n",
       "      <td>120</td>\n",
       "      <td>0.5%</td>\n",
       "      <td>One Piece</td>\n",
       "    </tr>\n",
       "    <tr>\n",
       "      <th>2</th>\n",
       "      <td>Syrup Village Arc</td>\n",
       "      <td>22.0</td>\n",
       "      <td>20</td>\n",
       "      <td>396</td>\n",
       "      <td>2.0%</td>\n",
       "      <td>9</td>\n",
       "      <td>10</td>\n",
       "      <td>240</td>\n",
       "      <td>1.0%</td>\n",
       "      <td>One Piece</td>\n",
       "    </tr>\n",
       "    <tr>\n",
       "      <th>3</th>\n",
       "      <td>Baratie Arc</td>\n",
       "      <td>42.0</td>\n",
       "      <td>27</td>\n",
       "      <td>514</td>\n",
       "      <td>2.6%</td>\n",
       "      <td>19</td>\n",
       "      <td>12</td>\n",
       "      <td>288</td>\n",
       "      <td>1.2%</td>\n",
       "      <td>One Piece</td>\n",
       "    </tr>\n",
       "    <tr>\n",
       "      <th>4</th>\n",
       "      <td>Arlong Park Arc</td>\n",
       "      <td>69.0</td>\n",
       "      <td>27</td>\n",
       "      <td>514</td>\n",
       "      <td>2.6%</td>\n",
       "      <td>31</td>\n",
       "      <td>15</td>\n",
       "      <td>360</td>\n",
       "      <td>1.5%</td>\n",
       "      <td>One Piece</td>\n",
       "    </tr>\n",
       "  </tbody>\n",
       "</table>\n",
       "</div>"
      ],
      "text/plain": [
       "                 Arc  Start onChapter  TotalChapters  TotalPages Manga%  \\\n",
       "0   Romance Dawn Arc              1.0              7         178   0.9%   \n",
       "1    Orange Town Arc              8.0             14         273   1.4%   \n",
       "2  Syrup Village Arc             22.0             20         396   2.0%   \n",
       "3        Baratie Arc             42.0             27         514   2.6%   \n",
       "4    Arlong Park Arc             69.0             27         514   2.6%   \n",
       "\n",
       "   Start onEpisode  TotalEpisodes  TotalMinutes(avg 24) Anime%   BigThree  \n",
       "0                1              3                    72   0.3%  One Piece  \n",
       "1                4              5                   120   0.5%  One Piece  \n",
       "2                9             10                   240   1.0%  One Piece  \n",
       "3               19             12                   288   1.2%  One Piece  \n",
       "4               31             15                   360   1.5%  One Piece  "
      ]
     },
     "execution_count": 4,
     "metadata": {},
     "output_type": "execute_result"
    }
   ],
   "source": [
    "df.head()"
   ]
  },
  {
   "cell_type": "code",
   "execution_count": null,
   "metadata": {},
   "outputs": [],
   "source": []
  }
 ],
 "metadata": {
  "kernelspec": {
   "display_name": "Python 3.9.7 64-bit",
   "language": "python",
   "name": "python3"
  },
  "language_info": {
   "codemirror_mode": {
    "name": "ipython",
    "version": 3
   },
   "file_extension": ".py",
   "mimetype": "text/x-python",
   "name": "python",
   "nbconvert_exporter": "python",
   "pygments_lexer": "ipython3",
   "version": "3.9.12"
  },
  "orig_nbformat": 4,
  "vscode": {
   "interpreter": {
    "hash": "aee8b7b246df8f9039afb4144a1f6fd8d2ca17a180786b69acc140d282b71a49"
   }
  }
 },
 "nbformat": 4,
 "nbformat_minor": 2
}
